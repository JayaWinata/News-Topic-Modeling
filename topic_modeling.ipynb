{
 "cells": [
  {
   "cell_type": "markdown",
   "metadata": {},
   "source": [
    "## Fetch Data from API (SerpAPI)"
   ]
  },
  {
   "cell_type": "code",
   "execution_count": 2,
   "metadata": {},
   "outputs": [],
   "source": [
    "from sklearn.metrics import classification_report, accuracy_score, confusion_matrix\n",
    "from sklearn.feature_extraction.text import TfidfVectorizer\n",
    "from sklearn.model_selection import train_test_split\n",
    "\n",
    "import matplotlib.pyplot as plt\n",
    "import pandas as pd\n",
    "import numpy as np\n",
    "\n",
    "from dotenv import load_dotenv\n",
    "import requests\n",
    "import os"
   ]
  },
  {
   "cell_type": "code",
   "execution_count": 102,
   "metadata": {},
   "outputs": [],
   "source": [
    "tokens = {\n",
    "    'technology': \"CAAqJggKIiBDQkFTRWdvSUwyMHZNRGRqTVhZU0FtVnVHZ0pWVXlnQVAB\",\n",
    "    'sports': 'CAAqJggKIiBDQkFTRWdvSUwyMHZNRFp1ZEdvU0FtVnVHZ0pWVXlnQVAB',\n",
    "    'entertainment': 'CAAqJggKIiBDQkFTRWdvSUwyMHZNREpxYW5RU0FtVnVHZ0pWVXlnQVAB',\n",
    "}"
   ]
  },
  {
   "cell_type": "code",
   "execution_count": 56,
   "metadata": {},
   "outputs": [],
   "source": [
    "def fetch_data(topic_token, section_token=None):\n",
    "    url = \"https://serpapi.com/search\"\n",
    "\n",
    "    params = {\n",
    "    'engine': 'google_news',\n",
    "    'hl': 'en',\n",
    "    'topic_token': topic_token,\n",
    "    'api_key': os.environ.get(\"API_KEY\")\n",
    "    }\n",
    "\n",
    "    if section_token:\n",
    "        params['section_token'] = section_token\n",
    "\n",
    "    try:\n",
    "        response = requests.get(url, params=params)\n",
    "        if response.status_code == 200:\n",
    "            data = response.json()\n",
    "        else:\n",
    "            data = {}\n",
    "            response.raise_for_status()\n",
    "    except requests.exceptions.HTTPError as err:\n",
    "        print(f\"HTTP error occurred: {err}\")\n",
    "    except requests.exceptions.RequestException as e:\n",
    "        print(f\"Other error occurred: {e}\")\n",
    "\n",
    "    return data"
   ]
  },
  {
   "cell_type": "code",
   "execution_count": 115,
   "metadata": {},
   "outputs": [],
   "source": [
    "def extract_data(topic_token):\n",
    "    titles = []\n",
    "    section_tokens = [i['section_token'] for i in fetch_data(topic_token)['sub_menu_links']]\n",
    "\n",
    "    for section_token in section_tokens:\n",
    "        data = fetch_data(topic_token, section_token)['news_results']\n",
    "        for item in data:\n",
    "            title = item.get('title', item.get('highlight', {}).get('title', None))\n",
    "            stories = item.get('stories', [])\n",
    "            titles.extend([title] + [story.get('title', None) for story in stories])\n",
    "\n",
    "    return titles"
   ]
  },
  {
   "cell_type": "code",
   "execution_count": 116,
   "metadata": {},
   "outputs": [],
   "source": [
    "data = extract_data(tokens['entertainment'])"
   ]
  }
 ],
 "metadata": {
  "kernelspec": {
   "display_name": "Python 3",
   "language": "python",
   "name": "python3"
  },
  "language_info": {
   "codemirror_mode": {
    "name": "ipython",
    "version": 3
   },
   "file_extension": ".py",
   "mimetype": "text/x-python",
   "name": "python",
   "nbconvert_exporter": "python",
   "pygments_lexer": "ipython3",
   "version": "3.10.11"
  }
 },
 "nbformat": 4,
 "nbformat_minor": 2
}
