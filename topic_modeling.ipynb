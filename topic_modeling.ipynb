{
 "cells": [
  {
   "cell_type": "markdown",
   "metadata": {},
   "source": [
    "## Fetch Data from API (SerpAPI)"
   ]
  },
  {
   "cell_type": "code",
   "execution_count": 101,
   "metadata": {},
   "outputs": [],
   "source": [
    "from sklearn.metrics import classification_report, accuracy_score, confusion_matrix\n",
    "from sklearn.decomposition import LatentDirichletAllocation, NMF\n",
    "from sklearn.feature_extraction.text import TfidfVectorizer\n",
    "from sklearn.model_selection import train_test_split\n",
    "from sklearn.preprocessing import LabelEncoder\n",
    "\n",
    "import matplotlib.pyplot as plt\n",
    "import seaborn as sns\n",
    "import pandas as pd\n",
    "import numpy as np\n",
    "\n",
    "from dotenv import load_dotenv\n",
    "import requests\n",
    "import os"
   ]
  },
  {
   "cell_type": "code",
   "execution_count": 2,
   "metadata": {},
   "outputs": [],
   "source": [
    "# Tokens for each topic\n",
    "tokens = {\n",
    "    'technology': \"CAAqJggKIiBDQkFTRWdvSUwyMHZNRGRqTVhZU0FtVnVHZ0pWVXlnQVAB\",\n",
    "    'sports': 'CAAqJggKIiBDQkFTRWdvSUwyMHZNRFp1ZEdvU0FtVnVHZ0pWVXlnQVAB',\n",
    "    'entertainment': 'CAAqJggKIiBDQkFTRWdvSUwyMHZNREpxYW5RU0FtVnVHZ0pWVXlnQVAB',\n",
    "}"
   ]
  },
  {
   "cell_type": "code",
   "execution_count": 3,
   "metadata": {},
   "outputs": [],
   "source": [
    "# Function to fetch data / JSON from API\n",
    "def fetch_data(topic_token, section_token=None):\n",
    "    url = \"https://serpapi.com/search\"\n",
    "\n",
    "    params = {\n",
    "    'engine': 'google_news',\n",
    "    'hl': 'en',\n",
    "    'topic_token': topic_token,\n",
    "    'api_key': os.environ.get(\"API_KEY\")\n",
    "    }\n",
    "\n",
    "    if section_token:\n",
    "        params['section_token'] = section_token\n",
    "\n",
    "    try:\n",
    "        response = requests.get(url, params=params)\n",
    "        if response.status_code == 200:\n",
    "            data = response.json()\n",
    "        else:\n",
    "            data = {}\n",
    "            response.raise_for_status()\n",
    "    except requests.exceptions.HTTPError as err:\n",
    "        print(f\"HTTP error occurred: {err}\")\n",
    "    except requests.exceptions.RequestException as e:\n",
    "        print(f\"Other error occurred: {e}\")\n",
    "\n",
    "    return data"
   ]
  },
  {
   "cell_type": "code",
   "execution_count": 4,
   "metadata": {},
   "outputs": [],
   "source": [
    "# Function to extract data from JSON to Python list\n",
    "def extract_data(topic_token, topic):\n",
    "    titles = []\n",
    "    section_tokens = [i['section_token'] for i in fetch_data(topic_token)['sub_menu_links']]\n",
    "\n",
    "    for section_token in section_tokens:\n",
    "        data = fetch_data(topic_token, section_token)['news_results']\n",
    "        for item in data:\n",
    "            title = (item.get('title', item.get('highlight', {}).get('title', None)), topic)\n",
    "            stories = item.get('stories', [])\n",
    "            titles.extend([title] + [(story.get('title', None), topic) for story in stories])\n",
    "\n",
    "    return titles"
   ]
  },
  {
   "cell_type": "code",
   "execution_count": 5,
   "metadata": {},
   "outputs": [],
   "source": [
    "# Extract data for all the topics defined\n",
    "data = []\n",
    "for i in tokens.keys():\n",
    "    data += extract_data(tokens[i], i.title())"
   ]
  },
  {
   "cell_type": "code",
   "execution_count": 6,
   "metadata": {},
   "outputs": [
    {
     "data": {
      "text/html": [
       "<div>\n",
       "<style scoped>\n",
       "    .dataframe tbody tr th:only-of-type {\n",
       "        vertical-align: middle;\n",
       "    }\n",
       "\n",
       "    .dataframe tbody tr th {\n",
       "        vertical-align: top;\n",
       "    }\n",
       "\n",
       "    .dataframe thead th {\n",
       "        text-align: right;\n",
       "    }\n",
       "</style>\n",
       "<table border=\"1\" class=\"dataframe\">\n",
       "  <thead>\n",
       "    <tr style=\"text-align: right;\">\n",
       "      <th></th>\n",
       "      <th>news</th>\n",
       "      <th>topic</th>\n",
       "    </tr>\n",
       "  </thead>\n",
       "  <tbody>\n",
       "    <tr>\n",
       "      <th>0</th>\n",
       "      <td>iPhone 17 rumors: A19 chip details, smaller Dy...</td>\n",
       "      <td>Technology</td>\n",
       "    </tr>\n",
       "    <tr>\n",
       "      <th>1</th>\n",
       "      <td>'iPhone 17 Air' Rumored to Surpass iPhone 6 as...</td>\n",
       "      <td>Technology</td>\n",
       "    </tr>\n",
       "    <tr>\n",
       "      <th>2</th>\n",
       "      <td>Apple iPhone 17 Air rumors: Specs, price, rele...</td>\n",
       "      <td>Technology</td>\n",
       "    </tr>\n",
       "    <tr>\n",
       "      <th>3</th>\n",
       "      <td>iPhone 17 Design Upgrade Will Make It Thinnest...</td>\n",
       "      <td>Technology</td>\n",
       "    </tr>\n",
       "    <tr>\n",
       "      <th>4</th>\n",
       "      <td>Google Pixel and other Android phones add 'Scr...</td>\n",
       "      <td>Technology</td>\n",
       "    </tr>\n",
       "  </tbody>\n",
       "</table>\n",
       "</div>"
      ],
      "text/plain": [
       "                                                news       topic\n",
       "0  iPhone 17 rumors: A19 chip details, smaller Dy...  Technology\n",
       "1  'iPhone 17 Air' Rumored to Surpass iPhone 6 as...  Technology\n",
       "2  Apple iPhone 17 Air rumors: Specs, price, rele...  Technology\n",
       "3  iPhone 17 Design Upgrade Will Make It Thinnest...  Technology\n",
       "4  Google Pixel and other Android phones add 'Scr...  Technology"
      ]
     },
     "execution_count": 6,
     "metadata": {},
     "output_type": "execute_result"
    }
   ],
   "source": [
    "# Convert data (Python list to dataframe)\n",
    "df = pd.DataFrame(data, columns=['news', 'topic'])\n",
    "df.head()"
   ]
  },
  {
   "cell_type": "code",
   "execution_count": 7,
   "metadata": {},
   "outputs": [],
   "source": [
    "# Load dataframe to excel\n",
    "df.to_excel('news.xlsx', index=False)"
   ]
  },
  {
   "cell_type": "markdown",
   "metadata": {},
   "source": [
    "## News Topic Modeling"
   ]
  },
  {
   "cell_type": "markdown",
   "metadata": {},
   "source": [
    "### Load Data"
   ]
  },
  {
   "cell_type": "code",
   "execution_count": 84,
   "metadata": {},
   "outputs": [
    {
     "data": {
      "text/html": [
       "<div>\n",
       "<style scoped>\n",
       "    .dataframe tbody tr th:only-of-type {\n",
       "        vertical-align: middle;\n",
       "    }\n",
       "\n",
       "    .dataframe tbody tr th {\n",
       "        vertical-align: top;\n",
       "    }\n",
       "\n",
       "    .dataframe thead th {\n",
       "        text-align: right;\n",
       "    }\n",
       "</style>\n",
       "<table border=\"1\" class=\"dataframe\">\n",
       "  <thead>\n",
       "    <tr style=\"text-align: right;\">\n",
       "      <th></th>\n",
       "      <th>news</th>\n",
       "      <th>topic</th>\n",
       "    </tr>\n",
       "  </thead>\n",
       "  <tbody>\n",
       "    <tr>\n",
       "      <th>0</th>\n",
       "      <td>iPhone 17 rumors: A19 chip details, smaller Dy...</td>\n",
       "      <td>Technology</td>\n",
       "    </tr>\n",
       "    <tr>\n",
       "      <th>1</th>\n",
       "      <td>'iPhone 17 Air' Rumored to Surpass iPhone 6 as...</td>\n",
       "      <td>Technology</td>\n",
       "    </tr>\n",
       "    <tr>\n",
       "      <th>2</th>\n",
       "      <td>Apple iPhone 17 Air rumors: Specs, price, rele...</td>\n",
       "      <td>Technology</td>\n",
       "    </tr>\n",
       "    <tr>\n",
       "      <th>3</th>\n",
       "      <td>iPhone 17 Design Upgrade Will Make It Thinnest...</td>\n",
       "      <td>Technology</td>\n",
       "    </tr>\n",
       "    <tr>\n",
       "      <th>4</th>\n",
       "      <td>Google Pixel and other Android phones add 'Scr...</td>\n",
       "      <td>Technology</td>\n",
       "    </tr>\n",
       "  </tbody>\n",
       "</table>\n",
       "</div>"
      ],
      "text/plain": [
       "                                                news       topic\n",
       "0  iPhone 17 rumors: A19 chip details, smaller Dy...  Technology\n",
       "1  'iPhone 17 Air' Rumored to Surpass iPhone 6 as...  Technology\n",
       "2  Apple iPhone 17 Air rumors: Specs, price, rele...  Technology\n",
       "3  iPhone 17 Design Upgrade Will Make It Thinnest...  Technology\n",
       "4  Google Pixel and other Android phones add 'Scr...  Technology"
      ]
     },
     "execution_count": 84,
     "metadata": {},
     "output_type": "execute_result"
    }
   ],
   "source": [
    "df = pd.read_excel('news.xlsx')\n",
    "df.head()"
   ]
  },
  {
   "cell_type": "markdown",
   "metadata": {},
   "source": [
    "### Exploratory Data Analysis and Data Preprocessing"
   ]
  },
  {
   "cell_type": "code",
   "execution_count": 85,
   "metadata": {},
   "outputs": [
    {
     "data": {
      "text/plain": [
       "topic\n",
       "Sports           1598\n",
       "Entertainment    1132\n",
       "Technology       1034\n",
       "Name: count, dtype: int64"
      ]
     },
     "execution_count": 85,
     "metadata": {},
     "output_type": "execute_result"
    }
   ],
   "source": [
    "# Show the amount of data for each topic\n",
    "df['topic'].value_counts()"
   ]
  },
  {
   "cell_type": "code",
   "execution_count": 86,
   "metadata": {},
   "outputs": [
    {
     "data": {
      "text/plain": [
       "news\n",
       "Big 12 football on TNT? New deal will feature 13 football games on WBD channels after settlement    4\n",
       "There Is One Major Glitch With WBD-ESPN Deal to License ‘Inside the NBA’                            4\n",
       "'Inside the NBA' moving to ESPN, ABC next season                                                    4\n",
       "Large piece of metal falls from AT&T Stadium roof prior to Texans-Cowboys game                      4\n",
       "Cowboys' embarrassing start includes little effort on Texans' TD and a failed fake punt             4\n",
       "                                                                                                   ..\n",
       "Mike Tomlin Running 'Circles' Around John Harbaugh In Steelers-Ravens Rivalry, Says Kyle Brandt     1\n",
       "The Truth About Netflix and Sports Isn’t Good for Sports Fans                                       1\n",
       "2025 NFL Draft quarterback stock report: Which QBs should be on the Giants’ radar?                  1\n",
       "What's next for the Giants, Daniel Jones after QB switch                                            1\n",
       "Travis Kelce Won't Be Making a Second Appearance on Stage With Taylor Swift For This Reason         1\n",
       "Name: count, Length: 3485, dtype: int64"
      ]
     },
     "execution_count": 86,
     "metadata": {},
     "output_type": "execute_result"
    }
   ],
   "source": [
    "# Chech duplicate news\n",
    "df['news'].value_counts()"
   ]
  },
  {
   "cell_type": "code",
   "execution_count": 87,
   "metadata": {},
   "outputs": [],
   "source": [
    "# Remove duplicate news\n",
    "df['news'] = df['news'].drop_duplicates()"
   ]
  },
  {
   "cell_type": "code",
   "execution_count": 88,
   "metadata": {},
   "outputs": [
    {
     "data": {
      "text/plain": [
       "news\n",
       "iPhone 17 rumors: A19 chip details, smaller Dynamic Island, more                                                  1\n",
       "Amanda Balionis shares glimpse into 'paradise' after honest Rory McIlroy admission                                1\n",
       "Rory McIlroy's LIV Golf dream edges closer to becoming reality after public appearance                            1\n",
       "Trump spotted sitting with head of Saudi Arabia’s Public Investment Fund at UFC fight                             1\n",
       "Trump steps into the PGA-LIV drama: I can fix this in ’15 minutes’                                                1\n",
       "                                                                                                                 ..\n",
       "Beyoncé Fans & Lizzo Are ‘Not Ready’ for NFL Christmas Halftime Set: ‘This Is Revolutionary’                      1\n",
       "Chargers 34-27 Bengals (Nov 17, 2024) Game Recap                                                                  1\n",
       "Matt Eberflus: We’ll send tape of FG block to league, Packers were on our long snapper                            1\n",
       "Can Jets get out of Aaron Rodgers' contract in 2025? Here are New York's options if QB returns for 21st season    1\n",
       "Travis Kelce Won't Be Making a Second Appearance on Stage With Taylor Swift For This Reason                       1\n",
       "Name: count, Length: 3485, dtype: int64"
      ]
     },
     "execution_count": 88,
     "metadata": {},
     "output_type": "execute_result"
    }
   ],
   "source": [
    "# Check duplicate news\n",
    "df['news'].value_counts(ascending=False)"
   ]
  },
  {
   "cell_type": "code",
   "execution_count": 89,
   "metadata": {},
   "outputs": [],
   "source": [
    "# Remove missing values\n",
    "df.dropna(how='any', inplace=True)"
   ]
  },
  {
   "cell_type": "code",
   "execution_count": 90,
   "metadata": {},
   "outputs": [],
   "source": [
    "# encoder = LabelEncoder()\n",
    "# encoder.fit(['Technology', 'Sports', 'Entertainment'])\n",
    "# df['encoded_topic'] = encoder.transform(df['topic'])\n",
    "# df.head()"
   ]
  },
  {
   "cell_type": "code",
   "execution_count": 91,
   "metadata": {},
   "outputs": [
    {
     "name": "stdout",
     "output_type": "stream",
     "text": [
      "<class 'pandas.core.frame.DataFrame'>\n",
      "Index: 3485 entries, 0 to 3763\n",
      "Data columns (total 2 columns):\n",
      " #   Column  Non-Null Count  Dtype \n",
      "---  ------  --------------  ----- \n",
      " 0   news    3485 non-null   object\n",
      " 1   topic   3485 non-null   object\n",
      "dtypes: object(2)\n",
      "memory usage: 81.7+ KB\n"
     ]
    }
   ],
   "source": [
    "df.info()"
   ]
  },
  {
   "cell_type": "code",
   "execution_count": 92,
   "metadata": {},
   "outputs": [
    {
     "data": {
      "text/html": [
       "<div>\n",
       "<style scoped>\n",
       "    .dataframe tbody tr th:only-of-type {\n",
       "        vertical-align: middle;\n",
       "    }\n",
       "\n",
       "    .dataframe tbody tr th {\n",
       "        vertical-align: top;\n",
       "    }\n",
       "\n",
       "    .dataframe thead th {\n",
       "        text-align: right;\n",
       "    }\n",
       "</style>\n",
       "<table border=\"1\" class=\"dataframe\">\n",
       "  <thead>\n",
       "    <tr style=\"text-align: right;\">\n",
       "      <th></th>\n",
       "      <th>news</th>\n",
       "      <th>topic</th>\n",
       "    </tr>\n",
       "  </thead>\n",
       "  <tbody>\n",
       "    <tr>\n",
       "      <th>count</th>\n",
       "      <td>3485</td>\n",
       "      <td>3485</td>\n",
       "    </tr>\n",
       "    <tr>\n",
       "      <th>unique</th>\n",
       "      <td>3485</td>\n",
       "      <td>3</td>\n",
       "    </tr>\n",
       "    <tr>\n",
       "      <th>top</th>\n",
       "      <td>iPhone 17 rumors: A19 chip details, smaller Dy...</td>\n",
       "      <td>Sports</td>\n",
       "    </tr>\n",
       "    <tr>\n",
       "      <th>freq</th>\n",
       "      <td>1</td>\n",
       "      <td>1492</td>\n",
       "    </tr>\n",
       "  </tbody>\n",
       "</table>\n",
       "</div>"
      ],
      "text/plain": [
       "                                                     news   topic\n",
       "count                                                3485    3485\n",
       "unique                                               3485       3\n",
       "top     iPhone 17 rumors: A19 chip details, smaller Dy...  Sports\n",
       "freq                                                    1    1492"
      ]
     },
     "execution_count": 92,
     "metadata": {},
     "output_type": "execute_result"
    }
   ],
   "source": [
    "df.describe()"
   ]
  },
  {
   "cell_type": "code",
   "execution_count": 93,
   "metadata": {},
   "outputs": [],
   "source": [
    "vectorizer = TfidfVectorizer(max_df=.95, min_df=5, stop_words='english')\n",
    "dtm = vectorizer.fit_transform(df['news'])"
   ]
  },
  {
   "cell_type": "markdown",
   "metadata": {},
   "source": [
    "### Latent Dirichlet Allocation (LDA)"
   ]
  },
  {
   "cell_type": "code",
   "execution_count": 94,
   "metadata": {},
   "outputs": [
    {
     "data": {
      "text/html": [
       "<style>#sk-container-id-4 {color: black;}#sk-container-id-4 pre{padding: 0;}#sk-container-id-4 div.sk-toggleable {background-color: white;}#sk-container-id-4 label.sk-toggleable__label {cursor: pointer;display: block;width: 100%;margin-bottom: 0;padding: 0.3em;box-sizing: border-box;text-align: center;}#sk-container-id-4 label.sk-toggleable__label-arrow:before {content: \"▸\";float: left;margin-right: 0.25em;color: #696969;}#sk-container-id-4 label.sk-toggleable__label-arrow:hover:before {color: black;}#sk-container-id-4 div.sk-estimator:hover label.sk-toggleable__label-arrow:before {color: black;}#sk-container-id-4 div.sk-toggleable__content {max-height: 0;max-width: 0;overflow: hidden;text-align: left;background-color: #f0f8ff;}#sk-container-id-4 div.sk-toggleable__content pre {margin: 0.2em;color: black;border-radius: 0.25em;background-color: #f0f8ff;}#sk-container-id-4 input.sk-toggleable__control:checked~div.sk-toggleable__content {max-height: 200px;max-width: 100%;overflow: auto;}#sk-container-id-4 input.sk-toggleable__control:checked~label.sk-toggleable__label-arrow:before {content: \"▾\";}#sk-container-id-4 div.sk-estimator input.sk-toggleable__control:checked~label.sk-toggleable__label {background-color: #d4ebff;}#sk-container-id-4 div.sk-label input.sk-toggleable__control:checked~label.sk-toggleable__label {background-color: #d4ebff;}#sk-container-id-4 input.sk-hidden--visually {border: 0;clip: rect(1px 1px 1px 1px);clip: rect(1px, 1px, 1px, 1px);height: 1px;margin: -1px;overflow: hidden;padding: 0;position: absolute;width: 1px;}#sk-container-id-4 div.sk-estimator {font-family: monospace;background-color: #f0f8ff;border: 1px dotted black;border-radius: 0.25em;box-sizing: border-box;margin-bottom: 0.5em;}#sk-container-id-4 div.sk-estimator:hover {background-color: #d4ebff;}#sk-container-id-4 div.sk-parallel-item::after {content: \"\";width: 100%;border-bottom: 1px solid gray;flex-grow: 1;}#sk-container-id-4 div.sk-label:hover label.sk-toggleable__label {background-color: #d4ebff;}#sk-container-id-4 div.sk-serial::before {content: \"\";position: absolute;border-left: 1px solid gray;box-sizing: border-box;top: 0;bottom: 0;left: 50%;z-index: 0;}#sk-container-id-4 div.sk-serial {display: flex;flex-direction: column;align-items: center;background-color: white;padding-right: 0.2em;padding-left: 0.2em;position: relative;}#sk-container-id-4 div.sk-item {position: relative;z-index: 1;}#sk-container-id-4 div.sk-parallel {display: flex;align-items: stretch;justify-content: center;background-color: white;position: relative;}#sk-container-id-4 div.sk-item::before, #sk-container-id-4 div.sk-parallel-item::before {content: \"\";position: absolute;border-left: 1px solid gray;box-sizing: border-box;top: 0;bottom: 0;left: 50%;z-index: -1;}#sk-container-id-4 div.sk-parallel-item {display: flex;flex-direction: column;z-index: 1;position: relative;background-color: white;}#sk-container-id-4 div.sk-parallel-item:first-child::after {align-self: flex-end;width: 50%;}#sk-container-id-4 div.sk-parallel-item:last-child::after {align-self: flex-start;width: 50%;}#sk-container-id-4 div.sk-parallel-item:only-child::after {width: 0;}#sk-container-id-4 div.sk-dashed-wrapped {border: 1px dashed gray;margin: 0 0.4em 0.5em 0.4em;box-sizing: border-box;padding-bottom: 0.4em;background-color: white;}#sk-container-id-4 div.sk-label label {font-family: monospace;font-weight: bold;display: inline-block;line-height: 1.2em;}#sk-container-id-4 div.sk-label-container {text-align: center;}#sk-container-id-4 div.sk-container {/* jupyter's `normalize.less` sets `[hidden] { display: none; }` but bootstrap.min.css set `[hidden] { display: none !important; }` so we also need the `!important` here to be able to override the default hidden behavior on the sphinx rendered scikit-learn.org. See: https://github.com/scikit-learn/scikit-learn/issues/21755 */display: inline-block !important;position: relative;}#sk-container-id-4 div.sk-text-repr-fallback {display: none;}</style><div id=\"sk-container-id-4\" class=\"sk-top-container\"><div class=\"sk-text-repr-fallback\"><pre>LatentDirichletAllocation(n_components=3, random_state=42)</pre><b>In a Jupyter environment, please rerun this cell to show the HTML representation or trust the notebook. <br />On GitHub, the HTML representation is unable to render, please try loading this page with nbviewer.org.</b></div><div class=\"sk-container\" hidden><div class=\"sk-item\"><div class=\"sk-estimator sk-toggleable\"><input class=\"sk-toggleable__control sk-hidden--visually\" id=\"sk-estimator-id-4\" type=\"checkbox\" checked><label for=\"sk-estimator-id-4\" class=\"sk-toggleable__label sk-toggleable__label-arrow\">LatentDirichletAllocation</label><div class=\"sk-toggleable__content\"><pre>LatentDirichletAllocation(n_components=3, random_state=42)</pre></div></div></div></div></div>"
      ],
      "text/plain": [
       "LatentDirichletAllocation(n_components=3, random_state=42)"
      ]
     },
     "execution_count": 94,
     "metadata": {},
     "output_type": "execute_result"
    }
   ],
   "source": [
    "# Create / train Latent Dirichlet Allocation\n",
    "lda = LatentDirichletAllocation(n_components=3, random_state=42)\n",
    "lda.fit(dtm)"
   ]
  },
  {
   "cell_type": "code",
   "execution_count": 95,
   "metadata": {},
   "outputs": [
    {
     "name": "stdout",
     "output_type": "stream",
     "text": [
      "TOP 20 WORDS FOR TOPIC 0\n",
      "['10', 'android', 'new', 'says', 'apple', 'rankings', '11', 'college', 'google', 'november', '25', 'friday', 'vs', '18', 'watch', 'black', 'basketball', 'best', '2024', 'ai']\n",
      "TOP 20 WORDS FOR TOPIC 1\n",
      "['gets', 'apple', 'home', 'release', 'report', 'man', 'injury', 'nvidia', 'big', 'pro', 'internet', 'week', 'time', 'game', 'quantum', 'college', 'ai', 'computing', 'new', 'football']\n",
      "TOP 20 WORDS FOR TOPIC 2\n",
      "['movie', 'team', 'paul', 'nfl', 'day', 'tour', 'fans', 'cup', 'nba', 'wnba', 'nascar', 'review', 'video', '2024', '2025', 'year', 'season', 'win', 'book', 'new']\n"
     ]
    }
   ],
   "source": [
    "# Show the most relevant words for each topic\n",
    "for index, topic in enumerate(lda.components_):\n",
    "    print(f\"TOP 20 WORDS FOR TOPIC {index}\")\n",
    "    print([vectorizer.get_feature_names_out()[i] for i in topic.argsort()[-20:]])"
   ]
  },
  {
   "cell_type": "code",
   "execution_count": 96,
   "metadata": {},
   "outputs": [
    {
     "data": {
      "text/html": [
       "<div>\n",
       "<style scoped>\n",
       "    .dataframe tbody tr th:only-of-type {\n",
       "        vertical-align: middle;\n",
       "    }\n",
       "\n",
       "    .dataframe tbody tr th {\n",
       "        vertical-align: top;\n",
       "    }\n",
       "\n",
       "    .dataframe thead th {\n",
       "        text-align: right;\n",
       "    }\n",
       "</style>\n",
       "<table border=\"1\" class=\"dataframe\">\n",
       "  <thead>\n",
       "    <tr style=\"text-align: right;\">\n",
       "      <th></th>\n",
       "      <th>news</th>\n",
       "      <th>topic</th>\n",
       "      <th>topic_lda</th>\n",
       "    </tr>\n",
       "  </thead>\n",
       "  <tbody>\n",
       "    <tr>\n",
       "      <th>0</th>\n",
       "      <td>iPhone 17 rumors: A19 chip details, smaller Dy...</td>\n",
       "      <td>Technology</td>\n",
       "      <td>1</td>\n",
       "    </tr>\n",
       "    <tr>\n",
       "      <th>1</th>\n",
       "      <td>'iPhone 17 Air' Rumored to Surpass iPhone 6 as...</td>\n",
       "      <td>Technology</td>\n",
       "      <td>0</td>\n",
       "    </tr>\n",
       "    <tr>\n",
       "      <th>2</th>\n",
       "      <td>Apple iPhone 17 Air rumors: Specs, price, rele...</td>\n",
       "      <td>Technology</td>\n",
       "      <td>1</td>\n",
       "    </tr>\n",
       "    <tr>\n",
       "      <th>3</th>\n",
       "      <td>iPhone 17 Design Upgrade Will Make It Thinnest...</td>\n",
       "      <td>Technology</td>\n",
       "      <td>0</td>\n",
       "    </tr>\n",
       "    <tr>\n",
       "      <th>4</th>\n",
       "      <td>Google Pixel and other Android phones add 'Scr...</td>\n",
       "      <td>Technology</td>\n",
       "      <td>0</td>\n",
       "    </tr>\n",
       "  </tbody>\n",
       "</table>\n",
       "</div>"
      ],
      "text/plain": [
       "                                                news       topic  topic_lda\n",
       "0  iPhone 17 rumors: A19 chip details, smaller Dy...  Technology          1\n",
       "1  'iPhone 17 Air' Rumored to Surpass iPhone 6 as...  Technology          0\n",
       "2  Apple iPhone 17 Air rumors: Specs, price, rele...  Technology          1\n",
       "3  iPhone 17 Design Upgrade Will Make It Thinnest...  Technology          0\n",
       "4  Google Pixel and other Android phones add 'Scr...  Technology          0"
      ]
     },
     "execution_count": 96,
     "metadata": {},
     "output_type": "execute_result"
    }
   ],
   "source": [
    "# Create new column in the dataframe (df)\n",
    "topic_lda = lda.transform(dtm)\n",
    "df['topic_lda'] = topic_lda.argmax(axis=1)\n",
    "df.head()"
   ]
  },
  {
   "cell_type": "code",
   "execution_count": 154,
   "metadata": {},
   "outputs": [
    {
     "data": {
      "text/html": [
       "<div>\n",
       "<style scoped>\n",
       "    .dataframe tbody tr th:only-of-type {\n",
       "        vertical-align: middle;\n",
       "    }\n",
       "\n",
       "    .dataframe tbody tr th {\n",
       "        vertical-align: top;\n",
       "    }\n",
       "\n",
       "    .dataframe thead tr th {\n",
       "        text-align: left;\n",
       "    }\n",
       "\n",
       "    .dataframe thead tr:last-of-type th {\n",
       "        text-align: right;\n",
       "    }\n",
       "</style>\n",
       "<table border=\"1\" class=\"dataframe\">\n",
       "  <thead>\n",
       "    <tr>\n",
       "      <th></th>\n",
       "      <th colspan=\"3\" halign=\"left\">news</th>\n",
       "      <th colspan=\"3\" halign=\"left\">topic_nmf</th>\n",
       "    </tr>\n",
       "    <tr>\n",
       "      <th>topic_lda</th>\n",
       "      <th>0</th>\n",
       "      <th>1</th>\n",
       "      <th>2</th>\n",
       "      <th>0</th>\n",
       "      <th>1</th>\n",
       "      <th>2</th>\n",
       "    </tr>\n",
       "    <tr>\n",
       "      <th>topic</th>\n",
       "      <th></th>\n",
       "      <th></th>\n",
       "      <th></th>\n",
       "      <th></th>\n",
       "      <th></th>\n",
       "      <th></th>\n",
       "    </tr>\n",
       "  </thead>\n",
       "  <tbody>\n",
       "    <tr>\n",
       "      <th>Entertainment</th>\n",
       "      <td>317</td>\n",
       "      <td>251</td>\n",
       "      <td>438</td>\n",
       "      <td>317</td>\n",
       "      <td>251</td>\n",
       "      <td>438</td>\n",
       "    </tr>\n",
       "    <tr>\n",
       "      <th>Sports</th>\n",
       "      <td>520</td>\n",
       "      <td>435</td>\n",
       "      <td>537</td>\n",
       "      <td>520</td>\n",
       "      <td>435</td>\n",
       "      <td>537</td>\n",
       "    </tr>\n",
       "    <tr>\n",
       "      <th>Technology</th>\n",
       "      <td>484</td>\n",
       "      <td>364</td>\n",
       "      <td>139</td>\n",
       "      <td>484</td>\n",
       "      <td>364</td>\n",
       "      <td>139</td>\n",
       "    </tr>\n",
       "  </tbody>\n",
       "</table>\n",
       "</div>"
      ],
      "text/plain": [
       "              news           topic_nmf          \n",
       "topic_lda        0    1    2         0    1    2\n",
       "topic                                           \n",
       "Entertainment  317  251  438       317  251  438\n",
       "Sports         520  435  537       520  435  537\n",
       "Technology     484  364  139       484  364  139"
      ]
     },
     "execution_count": 154,
     "metadata": {},
     "output_type": "execute_result"
    }
   ],
   "source": [
    "df.pivot_table(index=df['topic'], columns=df['topic_lda'], aggfunc='count')"
   ]
  },
  {
   "cell_type": "code",
   "execution_count": 165,
   "metadata": {},
   "outputs": [],
   "source": [
    "# Encode topic based on the most occurred topic_nmf for each category\n",
    "encoded_topic_lda_mapper = dict()\n",
    "unique_topic_lda = df.topic_lda.unique()\n",
    "for i in range(len(unique_topic_lda)):\n",
    "    if encoded_topic_lda_mapper.get(unique_topic_lda[i-1], None) in encoded_topic_lda_mapper.values():\n",
    "        encoded_topic_lda_mapper[unique_topic_lda[i]] = df[df['topic_lda'] == unique_topic_lda[i]]['topic'].value_counts(ascending=False).index[1]\n",
    "    else:\n",
    "        encoded_topic_lda_mapper[unique_topic_lda[i]] = df[df['topic_lda'] == unique_topic_lda[i]]['topic'].value_counts(ascending=False).index[0]\n",
    "\n",
    "\n",
    "encoded_topic_lda_mapper = {value: key for key, value in encoded_topic_lda_mapper.items()}\n",
    "\n",
    "encoded_topic_lda = df['topic'].apply(lambda x: encoded_topic_lda_mapper[x])"
   ]
  },
  {
   "cell_type": "code",
   "execution_count": 168,
   "metadata": {},
   "outputs": [
    {
     "name": "stdout",
     "output_type": "stream",
     "text": [
      "[[ 88 315 584]\n",
      " [751  44 697]\n",
      " [224  80 702]]\n",
      "              precision    recall  f1-score   support\n",
      "\n",
      "           0       0.08      0.09      0.09       987\n",
      "           1       0.10      0.03      0.05      1492\n",
      "           2       0.35      0.70      0.47      1006\n",
      "\n",
      "    accuracy                           0.24      3485\n",
      "   macro avg       0.18      0.27      0.20      3485\n",
      "weighted avg       0.17      0.24      0.18      3485\n",
      "\n"
     ]
    }
   ],
   "source": [
    "print(confusion_matrix(encoded_topic_lda, df['topic_nmf']))\n",
    "print(classification_report(encoded_topic_lda, df['topic_nmf']))"
   ]
  },
  {
   "cell_type": "markdown",
   "metadata": {},
   "source": [
    "### Non-negative Matrix Factorization"
   ]
  },
  {
   "cell_type": "code",
   "execution_count": 97,
   "metadata": {},
   "outputs": [
    {
     "data": {
      "text/html": [
       "<style>#sk-container-id-5 {color: black;}#sk-container-id-5 pre{padding: 0;}#sk-container-id-5 div.sk-toggleable {background-color: white;}#sk-container-id-5 label.sk-toggleable__label {cursor: pointer;display: block;width: 100%;margin-bottom: 0;padding: 0.3em;box-sizing: border-box;text-align: center;}#sk-container-id-5 label.sk-toggleable__label-arrow:before {content: \"▸\";float: left;margin-right: 0.25em;color: #696969;}#sk-container-id-5 label.sk-toggleable__label-arrow:hover:before {color: black;}#sk-container-id-5 div.sk-estimator:hover label.sk-toggleable__label-arrow:before {color: black;}#sk-container-id-5 div.sk-toggleable__content {max-height: 0;max-width: 0;overflow: hidden;text-align: left;background-color: #f0f8ff;}#sk-container-id-5 div.sk-toggleable__content pre {margin: 0.2em;color: black;border-radius: 0.25em;background-color: #f0f8ff;}#sk-container-id-5 input.sk-toggleable__control:checked~div.sk-toggleable__content {max-height: 200px;max-width: 100%;overflow: auto;}#sk-container-id-5 input.sk-toggleable__control:checked~label.sk-toggleable__label-arrow:before {content: \"▾\";}#sk-container-id-5 div.sk-estimator input.sk-toggleable__control:checked~label.sk-toggleable__label {background-color: #d4ebff;}#sk-container-id-5 div.sk-label input.sk-toggleable__control:checked~label.sk-toggleable__label {background-color: #d4ebff;}#sk-container-id-5 input.sk-hidden--visually {border: 0;clip: rect(1px 1px 1px 1px);clip: rect(1px, 1px, 1px, 1px);height: 1px;margin: -1px;overflow: hidden;padding: 0;position: absolute;width: 1px;}#sk-container-id-5 div.sk-estimator {font-family: monospace;background-color: #f0f8ff;border: 1px dotted black;border-radius: 0.25em;box-sizing: border-box;margin-bottom: 0.5em;}#sk-container-id-5 div.sk-estimator:hover {background-color: #d4ebff;}#sk-container-id-5 div.sk-parallel-item::after {content: \"\";width: 100%;border-bottom: 1px solid gray;flex-grow: 1;}#sk-container-id-5 div.sk-label:hover label.sk-toggleable__label {background-color: #d4ebff;}#sk-container-id-5 div.sk-serial::before {content: \"\";position: absolute;border-left: 1px solid gray;box-sizing: border-box;top: 0;bottom: 0;left: 50%;z-index: 0;}#sk-container-id-5 div.sk-serial {display: flex;flex-direction: column;align-items: center;background-color: white;padding-right: 0.2em;padding-left: 0.2em;position: relative;}#sk-container-id-5 div.sk-item {position: relative;z-index: 1;}#sk-container-id-5 div.sk-parallel {display: flex;align-items: stretch;justify-content: center;background-color: white;position: relative;}#sk-container-id-5 div.sk-item::before, #sk-container-id-5 div.sk-parallel-item::before {content: \"\";position: absolute;border-left: 1px solid gray;box-sizing: border-box;top: 0;bottom: 0;left: 50%;z-index: -1;}#sk-container-id-5 div.sk-parallel-item {display: flex;flex-direction: column;z-index: 1;position: relative;background-color: white;}#sk-container-id-5 div.sk-parallel-item:first-child::after {align-self: flex-end;width: 50%;}#sk-container-id-5 div.sk-parallel-item:last-child::after {align-self: flex-start;width: 50%;}#sk-container-id-5 div.sk-parallel-item:only-child::after {width: 0;}#sk-container-id-5 div.sk-dashed-wrapped {border: 1px dashed gray;margin: 0 0.4em 0.5em 0.4em;box-sizing: border-box;padding-bottom: 0.4em;background-color: white;}#sk-container-id-5 div.sk-label label {font-family: monospace;font-weight: bold;display: inline-block;line-height: 1.2em;}#sk-container-id-5 div.sk-label-container {text-align: center;}#sk-container-id-5 div.sk-container {/* jupyter's `normalize.less` sets `[hidden] { display: none; }` but bootstrap.min.css set `[hidden] { display: none !important; }` so we also need the `!important` here to be able to override the default hidden behavior on the sphinx rendered scikit-learn.org. See: https://github.com/scikit-learn/scikit-learn/issues/21755 */display: inline-block !important;position: relative;}#sk-container-id-5 div.sk-text-repr-fallback {display: none;}</style><div id=\"sk-container-id-5\" class=\"sk-top-container\"><div class=\"sk-text-repr-fallback\"><pre>NMF(n_components=3, random_state=42)</pre><b>In a Jupyter environment, please rerun this cell to show the HTML representation or trust the notebook. <br />On GitHub, the HTML representation is unable to render, please try loading this page with nbviewer.org.</b></div><div class=\"sk-container\" hidden><div class=\"sk-item\"><div class=\"sk-estimator sk-toggleable\"><input class=\"sk-toggleable__control sk-hidden--visually\" id=\"sk-estimator-id-5\" type=\"checkbox\" checked><label for=\"sk-estimator-id-5\" class=\"sk-toggleable__label sk-toggleable__label-arrow\">NMF</label><div class=\"sk-toggleable__content\"><pre>NMF(n_components=3, random_state=42)</pre></div></div></div></div></div>"
      ],
      "text/plain": [
       "NMF(n_components=3, random_state=42)"
      ]
     },
     "execution_count": 97,
     "metadata": {},
     "output_type": "execute_result"
    }
   ],
   "source": [
    "nmf = NMF(n_components=3, random_state=42)\n",
    "nmf.fit(dtm)"
   ]
  },
  {
   "cell_type": "code",
   "execution_count": null,
   "metadata": {},
   "outputs": [
    {
     "name": "stdout",
     "output_type": "stream",
     "text": [
      "TOP 20 WORDS FOR TOPIC 0\n",
      "['men', 'watch', 'season', 'playoff', 'state', '12', '11', 'picks', 'game', 'november', '25', 'rankings', '18', 'vs', 'best', 'week', 'basketball', 'football', '2024', 'college']\n",
      "TOP 20 WORDS FOR TOPIC 1\n",
      "['use', 'revolution', 'research', 'market', 'elon', 'future', 'gemini', 'generative', 'voice', 'stock', 'says', 'powered', 'musk', 'trump', 'tech', 'google', 'quantum', 'computing', 'nvidia', 'ai']\n",
      "TOP 20 WORDS FOR TOPIC 2\n",
      "['google', 'price', 'gets', 'sale', 'samsung', 'man', 'iphone', 'trailer', 'internet', 'year', 'star', 'pro', '2025', 'book', 'release', 'friday', 'black', 'watch', 'apple', 'new']\n"
     ]
    }
   ],
   "source": [
    "# Show the most relevant words for each topic\n",
    "for index, topic in enumerate(nmf.components_):\n",
    "    print(f\"TOP 20 WORDS FOR TOPIC {index}\")\n",
    "    print([vectorizer.get_feature_names_out()[i] for i in topic.argsort()[-20:]])"
   ]
  },
  {
   "cell_type": "code",
   "execution_count": 99,
   "metadata": {},
   "outputs": [
    {
     "data": {
      "text/html": [
       "<div>\n",
       "<style scoped>\n",
       "    .dataframe tbody tr th:only-of-type {\n",
       "        vertical-align: middle;\n",
       "    }\n",
       "\n",
       "    .dataframe tbody tr th {\n",
       "        vertical-align: top;\n",
       "    }\n",
       "\n",
       "    .dataframe thead th {\n",
       "        text-align: right;\n",
       "    }\n",
       "</style>\n",
       "<table border=\"1\" class=\"dataframe\">\n",
       "  <thead>\n",
       "    <tr style=\"text-align: right;\">\n",
       "      <th></th>\n",
       "      <th>news</th>\n",
       "      <th>topic</th>\n",
       "      <th>topic_lda</th>\n",
       "      <th>topic_nmf</th>\n",
       "    </tr>\n",
       "  </thead>\n",
       "  <tbody>\n",
       "    <tr>\n",
       "      <th>0</th>\n",
       "      <td>iPhone 17 rumors: A19 chip details, smaller Dy...</td>\n",
       "      <td>Technology</td>\n",
       "      <td>1</td>\n",
       "      <td>2</td>\n",
       "    </tr>\n",
       "    <tr>\n",
       "      <th>1</th>\n",
       "      <td>'iPhone 17 Air' Rumored to Surpass iPhone 6 as...</td>\n",
       "      <td>Technology</td>\n",
       "      <td>0</td>\n",
       "      <td>2</td>\n",
       "    </tr>\n",
       "    <tr>\n",
       "      <th>2</th>\n",
       "      <td>Apple iPhone 17 Air rumors: Specs, price, rele...</td>\n",
       "      <td>Technology</td>\n",
       "      <td>1</td>\n",
       "      <td>2</td>\n",
       "    </tr>\n",
       "    <tr>\n",
       "      <th>3</th>\n",
       "      <td>iPhone 17 Design Upgrade Will Make It Thinnest...</td>\n",
       "      <td>Technology</td>\n",
       "      <td>0</td>\n",
       "      <td>2</td>\n",
       "    </tr>\n",
       "    <tr>\n",
       "      <th>4</th>\n",
       "      <td>Google Pixel and other Android phones add 'Scr...</td>\n",
       "      <td>Technology</td>\n",
       "      <td>0</td>\n",
       "      <td>2</td>\n",
       "    </tr>\n",
       "  </tbody>\n",
       "</table>\n",
       "</div>"
      ],
      "text/plain": [
       "                                                news       topic  topic_lda   \n",
       "0  iPhone 17 rumors: A19 chip details, smaller Dy...  Technology          1  \\\n",
       "1  'iPhone 17 Air' Rumored to Surpass iPhone 6 as...  Technology          0   \n",
       "2  Apple iPhone 17 Air rumors: Specs, price, rele...  Technology          1   \n",
       "3  iPhone 17 Design Upgrade Will Make It Thinnest...  Technology          0   \n",
       "4  Google Pixel and other Android phones add 'Scr...  Technology          0   \n",
       "\n",
       "   topic_nmf  \n",
       "0          2  \n",
       "1          2  \n",
       "2          2  \n",
       "3          2  \n",
       "4          2  "
      ]
     },
     "execution_count": 99,
     "metadata": {},
     "output_type": "execute_result"
    }
   ],
   "source": [
    "# Create new column in the dataframe (df)\n",
    "topic_nmf = nmf.transform(dtm)\n",
    "df['topic_nmf'] = topic_nmf.argmax(axis=1)\n",
    "df.head()"
   ]
  },
  {
   "cell_type": "code",
   "execution_count": 136,
   "metadata": {},
   "outputs": [
    {
     "data": {
      "text/html": [
       "<div>\n",
       "<style scoped>\n",
       "    .dataframe tbody tr th:only-of-type {\n",
       "        vertical-align: middle;\n",
       "    }\n",
       "\n",
       "    .dataframe tbody tr th {\n",
       "        vertical-align: top;\n",
       "    }\n",
       "\n",
       "    .dataframe thead tr th {\n",
       "        text-align: left;\n",
       "    }\n",
       "\n",
       "    .dataframe thead tr:last-of-type th {\n",
       "        text-align: right;\n",
       "    }\n",
       "</style>\n",
       "<table border=\"1\" class=\"dataframe\">\n",
       "  <thead>\n",
       "    <tr>\n",
       "      <th></th>\n",
       "      <th colspan=\"3\" halign=\"left\">news</th>\n",
       "      <th colspan=\"3\" halign=\"left\">topic_lda</th>\n",
       "    </tr>\n",
       "    <tr>\n",
       "      <th>topic_nmf</th>\n",
       "      <th>0</th>\n",
       "      <th>1</th>\n",
       "      <th>2</th>\n",
       "      <th>0</th>\n",
       "      <th>1</th>\n",
       "      <th>2</th>\n",
       "    </tr>\n",
       "    <tr>\n",
       "      <th>topic</th>\n",
       "      <th></th>\n",
       "      <th></th>\n",
       "      <th></th>\n",
       "      <th></th>\n",
       "      <th></th>\n",
       "      <th></th>\n",
       "    </tr>\n",
       "  </thead>\n",
       "  <tbody>\n",
       "    <tr>\n",
       "      <th>Entertainment</th>\n",
       "      <td>224</td>\n",
       "      <td>80</td>\n",
       "      <td>702</td>\n",
       "      <td>224</td>\n",
       "      <td>80</td>\n",
       "      <td>702</td>\n",
       "    </tr>\n",
       "    <tr>\n",
       "      <th>Sports</th>\n",
       "      <td>751</td>\n",
       "      <td>44</td>\n",
       "      <td>697</td>\n",
       "      <td>751</td>\n",
       "      <td>44</td>\n",
       "      <td>697</td>\n",
       "    </tr>\n",
       "    <tr>\n",
       "      <th>Technology</th>\n",
       "      <td>88</td>\n",
       "      <td>315</td>\n",
       "      <td>584</td>\n",
       "      <td>88</td>\n",
       "      <td>315</td>\n",
       "      <td>584</td>\n",
       "    </tr>\n",
       "  </tbody>\n",
       "</table>\n",
       "</div>"
      ],
      "text/plain": [
       "              news           topic_lda          \n",
       "topic_nmf        0    1    2         0    1    2\n",
       "topic                                           \n",
       "Entertainment  224   80  702       224   80  702\n",
       "Sports         751   44  697       751   44  697\n",
       "Technology      88  315  584        88  315  584"
      ]
     },
     "execution_count": 136,
     "metadata": {},
     "output_type": "execute_result"
    }
   ],
   "source": [
    "df.pivot_table(index=df['topic'], columns=df['topic_nmf'], aggfunc='count')"
   ]
  },
  {
   "cell_type": "code",
   "execution_count": 140,
   "metadata": {},
   "outputs": [],
   "source": [
    "# Encode topic based on the most occurred topic_nmf for each category\n",
    "encoded_topic_nmf_mapper = dict()\n",
    "for i in df.topic_nmf.unique():\n",
    "    encoded_topic_nmf_mapper[i] = df[df['topic_nmf'] == i]['topic'].value_counts(ascending=False).index[0]\n",
    "\n",
    "encoded_topic_nmf_mapper = {value: key for key, value in encoded_topic_nmf_mapper.items()}\n",
    "\n",
    "encoded_topic_nmf = df['topic'].apply(lambda x: encoded_topic_nmf_mapper[x])"
   ]
  },
  {
   "cell_type": "code",
   "execution_count": 142,
   "metadata": {},
   "outputs": [
    {
     "name": "stdout",
     "output_type": "stream",
     "text": [
      "[[751  44 697]\n",
      " [ 88 315 584]\n",
      " [224  80 702]]\n",
      "              precision    recall  f1-score   support\n",
      "\n",
      "           0       0.71      0.50      0.59      1492\n",
      "           1       0.72      0.32      0.44       987\n",
      "           2       0.35      0.70      0.47      1006\n",
      "\n",
      "    accuracy                           0.51      3485\n",
      "   macro avg       0.59      0.51      0.50      3485\n",
      "weighted avg       0.61      0.51      0.51      3485\n",
      "\n"
     ]
    }
   ],
   "source": [
    "print(confusion_matrix(encoded_topic_nmf, df['topic_nmf']))\n",
    "print(classification_report(encoded_topic_nmf, df['topic_nmf']))"
   ]
  }
 ],
 "metadata": {
  "kernelspec": {
   "display_name": "Python 3",
   "language": "python",
   "name": "python3"
  },
  "language_info": {
   "codemirror_mode": {
    "name": "ipython",
    "version": 3
   },
   "file_extension": ".py",
   "mimetype": "text/x-python",
   "name": "python",
   "nbconvert_exporter": "python",
   "pygments_lexer": "ipython3",
   "version": "3.10.11"
  }
 },
 "nbformat": 4,
 "nbformat_minor": 2
}
